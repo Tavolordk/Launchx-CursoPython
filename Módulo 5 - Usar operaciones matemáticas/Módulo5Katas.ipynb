{
 "cells": [
  {
   "cell_type": "code",
   "execution_count": 5,
   "metadata": {},
   "outputs": [
    {
     "name": "stdout",
     "output_type": "stream",
     "text": [
      "5\n",
      "3.105\n"
     ]
    }
   ],
   "source": [
    "# Crear variables para almacenar las dos distancias\n",
    "# ¡Asegúrate de quitar las comas!\n",
    "\n",
    "#planeta_uno = 149597870\n",
    "#planeta_dos = 778547200\n",
    "planeta_uno=input('Inserte distancia del primer planeta')\n",
    "planeta_dos=input('Inserte distancia del segundo planeta')\n",
    "# Calcular la distancia entre planetas\n",
    "\n",
    "distanciaKm = int(planeta_dos) - int(planeta_uno)\n",
    "if(distanciaKm>0):\n",
    " print(distanciaKm)\n",
    " distanciaMi = distanciaKm * 0.621\n",
    " print(distanciaMi)\n",
    "elif(distanciaKm<0):\n",
    " print(distanciaKm*(-1))\n",
    " distanciaMi = distanciaKm*(-1) * 0.621\n",
    " print(distanciaMi)"
   ]
  },
  {
   "cell_type": "code",
   "execution_count": 8,
   "metadata": {},
   "outputs": [
    {
     "name": "stdout",
     "output_type": "stream",
     "text": [
      "5\n",
      "3.105\n"
     ]
    }
   ],
   "source": [
    "# Almacenar las entradas del usuario\n",
    "first_planet = input('Introduzca la distancia del sol para el primer planeta en KM')\n",
    "second_planet = input('Introduzca la distancia desde el sol para el segundo planeta en KM')\n",
    "\n",
    "# Realizar el cálculo y determinar el valor absoluto\n",
    "distance_km = int(second_planet) - int(first_planet)\n",
    "if(distance_km>0):\n",
    " print(distance_km)\n",
    " # Convertir de KM a Millas\n",
    " distance_mi = distance_km * 0.621\n",
    " print(abs(distance_mi))\n",
    "elif(distance_km<0):\n",
    " print(distance_km*(-1))\n",
    " # Convertir de KM a Millas\n",
    " distance_mi = distance_km*(-1) * 0.621\n",
    " print(abs(distance_mi))"
   ]
  }
 ],
 "metadata": {
  "interpreter": {
   "hash": "31f2aee4e71d21fbe5cf8b01ff0e069b9275f58929596ceb00d14d90e3e16cd6"
  },
  "kernelspec": {
   "display_name": "Python 3.8.10 64-bit",
   "language": "python",
   "name": "python3"
  },
  "language_info": {
   "codemirror_mode": {
    "name": "ipython",
    "version": 3
   },
   "file_extension": ".py",
   "mimetype": "text/x-python",
   "name": "python",
   "nbconvert_exporter": "python",
   "pygments_lexer": "ipython3",
   "version": "3.8.10"
  },
  "orig_nbformat": 4
 },
 "nbformat": 4,
 "nbformat_minor": 2
}
