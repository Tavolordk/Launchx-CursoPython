{
 "cells": [
  {
   "cell_type": "code",
   "execution_count": 6,
   "metadata": {},
   "outputs": [
    {
     "name": "stdout",
     "output_type": "stream",
     "text": [
      "Peligro! un asteroide se acerca demasiado rápido a la tierra\n"
     ]
    }
   ],
   "source": [
    "# Añadir el código necesario para crear una variable que guarde la velocidad del asteroide.\n",
    "# Escribe una expresión de prueba para calcular si necesita una advertencia.\n",
    "# Agregue las instrucciones que se ejecutarán si la expresión de prueba es true o false.\n",
    "\n",
    "velocidadAsteroide=input('Inserte velocidad del asteroide')\n",
    "if int(velocidadAsteroide)>25:\n",
    " print('Peligro! un asteroide se acerca demasiado rápido a la tierra')\n",
    "else:\n",
    " print('Estamos fuera de peligro :D')\n"
   ]
  },
  {
   "cell_type": "code",
   "execution_count": 9,
   "metadata": {},
   "outputs": [
    {
     "name": "stdout",
     "output_type": "stream",
     "text": [
      "Debes buscar un rayo de luz en el cielo\n"
     ]
    }
   ],
   "source": [
    "# Agrega el código para crear una variable para un asteroide que viaja a 19 km/s\n",
    "# Escribe varias expresiones de prueba para determinar si puedes ver el rayo de luz desde la tierra\n",
    "# Agrega las instrucciones que se ejecutarán si las expresiones de prueba son True o False\n",
    "velocidadAsteroide=input('Inserte velocidad del asteroide')\n",
    "if int(velocidadAsteroide)>20:\n",
    " print('Debes buscar un rayo de luz en el cielo')\n",
    "elif int(velocidadAsteroide)==20:\n",
    " print('Debes buscar un rayo de luz en el cielo')\n",
    "else:\n",
    " print('Nada que ver en el cielo')"
   ]
  },
  {
   "cell_type": "code",
   "execution_count": 5,
   "metadata": {},
   "outputs": [
    {
     "name": "stdout",
     "output_type": "stream",
     "text": [
      "Estamos a salvo :D\n"
     ]
    }
   ],
   "source": [
    "# Agrega el código para crear nuevas variables para la velocidad y el tamaño del asteroide\n",
    "# Para probar el código, prueba con varias velocidades y tamaños\n",
    "# Escribe varias expresiones de prueba o combinaciones de expresiones de prueba para determinar qué mensaje se debe enviar a Tierra.\n",
    "velocidad_asteroide = input('Inserte velocidad del asteroide')\n",
    "tamano_asteroide = input('Inserte tamanio del asteroide')\n",
    "if int(velocidad_asteroide) > 25 and int(tamano_asteroide )> 25:\n",
    "    print('¡Alerta, Vamos a morir D:!')\n",
    "elif int(velocidad_asteroide) >= 20:\n",
    "    print('Debes mirar la luz mágica en el cielo!')\n",
    "elif int(tamano_asteroide) < 25:\n",
    "    print('Estamos a salvo :D')\n",
    "else:\n",
    "    print('Estamos a salvo :D')"
   ]
  }
 ],
 "metadata": {
  "interpreter": {
   "hash": "31f2aee4e71d21fbe5cf8b01ff0e069b9275f58929596ceb00d14d90e3e16cd6"
  },
  "kernelspec": {
   "display_name": "Python 3.8.10 64-bit",
   "language": "python",
   "name": "python3"
  },
  "language_info": {
   "codemirror_mode": {
    "name": "ipython",
    "version": 3
   },
   "file_extension": ".py",
   "mimetype": "text/x-python",
   "name": "python",
   "nbconvert_exporter": "python",
   "pygments_lexer": "ipython3",
   "version": "3.8.10"
  },
  "orig_nbformat": 4
 },
 "nbformat": 4,
 "nbformat_minor": 2
}
